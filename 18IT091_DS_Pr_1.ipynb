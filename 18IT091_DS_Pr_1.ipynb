{
  "nbformat": 4,
  "nbformat_minor": 0,
  "metadata": {
    "colab": {
      "name": "18IT091_DS-Pr-1.ipynb",
      "provenance": [],
      "collapsed_sections": []
    },
    "kernelspec": {
      "name": "python3",
      "display_name": "Python 3"
    },
    "language_info": {
      "name": "python"
    }
  },
  "cells": [
    {
      "cell_type": "code",
      "metadata": {
        "id": "_CegKtdczxog"
      },
      "source": [
        "import requests\n",
        "from bs4 import BeautifulSoup\n",
        "import pandas as pd"
      ],
      "execution_count": null,
      "outputs": []
    },
    {
      "cell_type": "code",
      "metadata": {
        "id": "QDj2gSHWzzSA"
      },
      "source": [
        "TitleName=[]\n",
        "Year=[]\n",
        "Rating=[]"
      ],
      "execution_count": null,
      "outputs": []
    },
    {
      "cell_type": "code",
      "metadata": {
        "id": "grqRHs3_z7Pr"
      },
      "source": [
        "url = \"https://www.imdb.com/chart/top/?ref_=nv_mv_250\"\n",
        "r = requests.get(url).content"
      ],
      "execution_count": null,
      "outputs": []
    },
    {
      "cell_type": "code",
      "metadata": {
        "id": "QFtPv-isz_Al"
      },
      "source": [
        "soup = BeautifulSoup(r, \"html.parser\") \n",
        "list = soup.find(\"tbody\", {\"class\":\"lister-list\"}).find_all(\"tr\")\n",
        "x = 1\n",
        "for i in list:\n",
        "  title = i.find(\"td\",{\"class\":\"titleColumn\"})\n",
        "  year = i.find(\"span\",{\"class\":\"secondaryInfo\"})\n",
        "  rating = i.find(\"td\",{\"class\":\"ratingColumn\"})\n",
        "  TitleName.append(title.text)\n",
        "  Year.append(year.text)\n",
        "  Rating.append(rating.text)"
      ],
      "execution_count": null,
      "outputs": []
    },
    {
      "cell_type": "code",
      "metadata": {
        "id": "IyQSdEyX0KNz"
      },
      "source": [
        "\n"
      ],
      "execution_count": null,
      "outputs": []
    },
    {
      "cell_type": "code",
      "metadata": {
        "id": "3fNoW-Qd0N4Z",
        "colab": {
          "base_uri": "https://localhost:8080/",
          "height": 417
        },
        "outputId": "8d5063f1-8c79-45b7-c281-cb3f68f274d0"
      },
      "source": [
        "df=pd.DataFrame({'Title' : TitleName,'year':Year,'Rating':Rating})\n",
        "df"
      ],
      "execution_count": null,
      "outputs": [
        {
          "output_type": "execute_result",
          "data": {
            "text/html": [
              "<div>\n",
              "<style scoped>\n",
              "    .dataframe tbody tr th:only-of-type {\n",
              "        vertical-align: middle;\n",
              "    }\n",
              "\n",
              "    .dataframe tbody tr th {\n",
              "        vertical-align: top;\n",
              "    }\n",
              "\n",
              "    .dataframe thead th {\n",
              "        text-align: right;\n",
              "    }\n",
              "</style>\n",
              "<table border=\"1\" class=\"dataframe\">\n",
              "  <thead>\n",
              "    <tr style=\"text-align: right;\">\n",
              "      <th></th>\n",
              "      <th>Title</th>\n",
              "      <th>year</th>\n",
              "      <th>Rating</th>\n",
              "    </tr>\n",
              "  </thead>\n",
              "  <tbody>\n",
              "    <tr>\n",
              "      <th>0</th>\n",
              "      <td>\\n      1.\\n      The Shawshank Redemption\\n(1...</td>\n",
              "      <td>(1994)</td>\n",
              "      <td>\\n9.2\\n</td>\n",
              "    </tr>\n",
              "    <tr>\n",
              "      <th>1</th>\n",
              "      <td>\\n      2.\\n      The Godfather\\n(1972)\\n</td>\n",
              "      <td>(1972)</td>\n",
              "      <td>\\n9.1\\n</td>\n",
              "    </tr>\n",
              "    <tr>\n",
              "      <th>2</th>\n",
              "      <td>\\n      3.\\n      The Godfather: Part II\\n(197...</td>\n",
              "      <td>(1974)</td>\n",
              "      <td>\\n9.0\\n</td>\n",
              "    </tr>\n",
              "    <tr>\n",
              "      <th>3</th>\n",
              "      <td>\\n      4.\\n      The Dark Knight\\n(2008)\\n</td>\n",
              "      <td>(2008)</td>\n",
              "      <td>\\n9.0\\n</td>\n",
              "    </tr>\n",
              "    <tr>\n",
              "      <th>4</th>\n",
              "      <td>\\n      5.\\n      12 Angry Men\\n(1957)\\n</td>\n",
              "      <td>(1957)</td>\n",
              "      <td>\\n8.9\\n</td>\n",
              "    </tr>\n",
              "    <tr>\n",
              "      <th>...</th>\n",
              "      <td>...</td>\n",
              "      <td>...</td>\n",
              "      <td>...</td>\n",
              "    </tr>\n",
              "    <tr>\n",
              "      <th>245</th>\n",
              "      <td>\\n      246.\\n      The Princess Bride\\n(1987)\\n</td>\n",
              "      <td>(1987)</td>\n",
              "      <td>\\n8.0\\n</td>\n",
              "    </tr>\n",
              "    <tr>\n",
              "      <th>246</th>\n",
              "      <td>\\n      247.\\n      Hera Pheri\\n(2000)\\n</td>\n",
              "      <td>(2000)</td>\n",
              "      <td>\\n8.0\\n</td>\n",
              "    </tr>\n",
              "    <tr>\n",
              "      <th>247</th>\n",
              "      <td>\\n      248.\\n      Sunrise\\n(1927)\\n</td>\n",
              "      <td>(1927)</td>\n",
              "      <td>\\n8.0\\n</td>\n",
              "    </tr>\n",
              "    <tr>\n",
              "      <th>248</th>\n",
              "      <td>\\n      249.\\n      Drishyam\\n(2013)\\n</td>\n",
              "      <td>(2013)</td>\n",
              "      <td>\\n8.0\\n</td>\n",
              "    </tr>\n",
              "    <tr>\n",
              "      <th>249</th>\n",
              "      <td>\\n      250.\\n      Tumbbad\\n(2018)\\n</td>\n",
              "      <td>(2018)</td>\n",
              "      <td>\\n8.0\\n</td>\n",
              "    </tr>\n",
              "  </tbody>\n",
              "</table>\n",
              "<p>250 rows × 3 columns</p>\n",
              "</div>"
            ],
            "text/plain": [
              "                                                 Title    year   Rating\n",
              "0    \\n      1.\\n      The Shawshank Redemption\\n(1...  (1994)  \\n9.2\\n\n",
              "1            \\n      2.\\n      The Godfather\\n(1972)\\n  (1972)  \\n9.1\\n\n",
              "2    \\n      3.\\n      The Godfather: Part II\\n(197...  (1974)  \\n9.0\\n\n",
              "3          \\n      4.\\n      The Dark Knight\\n(2008)\\n  (2008)  \\n9.0\\n\n",
              "4             \\n      5.\\n      12 Angry Men\\n(1957)\\n  (1957)  \\n8.9\\n\n",
              "..                                                 ...     ...      ...\n",
              "245   \\n      246.\\n      The Princess Bride\\n(1987)\\n  (1987)  \\n8.0\\n\n",
              "246           \\n      247.\\n      Hera Pheri\\n(2000)\\n  (2000)  \\n8.0\\n\n",
              "247              \\n      248.\\n      Sunrise\\n(1927)\\n  (1927)  \\n8.0\\n\n",
              "248             \\n      249.\\n      Drishyam\\n(2013)\\n  (2013)  \\n8.0\\n\n",
              "249              \\n      250.\\n      Tumbbad\\n(2018)\\n  (2018)  \\n8.0\\n\n",
              "\n",
              "[250 rows x 3 columns]"
            ]
          },
          "metadata": {
            "tags": []
          },
          "execution_count": 19
        }
      ]
    },
    {
      "cell_type": "code",
      "metadata": {
        "id": "AFNG04JnC_CS"
      },
      "source": [
        "df.to_csv('IMDbRating.csv', index=False, encoding='utf-8')"
      ],
      "execution_count": null,
      "outputs": []
    }
  ]
}